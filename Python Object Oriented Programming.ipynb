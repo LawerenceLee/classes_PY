{
 "cells": [
  {
   "cell_type": "markdown",
   "metadata": {},
   "source": [
    "# What Are Objects And Classes?"
   ]
  },
  {
   "cell_type": "code",
   "execution_count": 1,
   "metadata": {
    "collapsed": true
   },
   "outputs": [],
   "source": [
    "class Giraffe: #Class is typically capitalized\n",
    "    height = 'Tall'  # These are known as attributes.\n",
    "    legs = 4\n",
    "    \n",
    "    def talk(self):  # this is called a method, essentially a function embedded in a Class.\n",
    "        print('hum')"
   ]
  },
  {
   "cell_type": "code",
   "execution_count": 2,
   "metadata": {},
   "outputs": [],
   "source": [
    "import random\n",
    "\n",
    "class Character:\n",
    "    def __init__(self, name, **kwargs):\n",
    "        self.name = name\n",
    "        \n",
    "        for key, value in kwargs.items():\n",
    "            setattr(self, key, value)\n",
    "\n",
    "class Thief(Character):  # Thief inherits from Character\n",
    "    sneaky = True\n",
    "    \n",
    "    def __init__(self, name, sneaky=True, **kwargs):\n",
    "        # The use of super() here allows us to use the init method defined in our character class to\n",
    "        # be used along side of our init method in our subclass. It is best to have super() run first, so that\n",
    "        #it does not override any thing in our Thief class init.\n",
    "        # super must be followed by the function name and its required args (except self). \n",
    "        super().__init__(name, **kwargs) \n",
    "        self.sneaky = sneaky\n",
    "     \n",
    "    def pickpocket(self): # The self parameter represents the instance that is calling the method.\n",
    "        return self.sneaky and bool(random.randint(0,1))\n",
    "        \n",
    "    def hide(self, light_level):\n",
    "        return self.sneaky and light_level < 10\n",
    "        "
   ]
  },
  {
   "cell_type": "markdown",
   "metadata": {},
   "source": [
    "An instance is the result of using, or calling, a class."
   ]
  },
  {
   "cell_type": "code",
   "execution_count": 3,
   "metadata": {},
   "outputs": [
    {
     "ename": "TypeError",
     "evalue": "__init__() missing 1 required positional argument: 'name'",
     "output_type": "error",
     "traceback": [
      "\u001b[0;31m---------------------------------------------------------------------------\u001b[0m",
      "\u001b[0;31mTypeError\u001b[0m                                 Traceback (most recent call last)",
      "\u001b[0;32m<ipython-input-3-88e60451580c>\u001b[0m in \u001b[0;36m<module>\u001b[0;34m()\u001b[0m\n\u001b[0;32m----> 1\u001b[0;31m \u001b[0mkenneth\u001b[0m \u001b[0;34m=\u001b[0m \u001b[0mThief\u001b[0m\u001b[0;34m(\u001b[0m\u001b[0;34m)\u001b[0m  \u001b[0;31m# This is an instantiation of the Thief class\u001b[0m\u001b[0;34m\u001b[0m\u001b[0m\n\u001b[0m\u001b[1;32m      2\u001b[0m \u001b[0mkenneth\u001b[0m\u001b[0;34m\u001b[0m\u001b[0m\n",
      "\u001b[0;31mTypeError\u001b[0m: __init__() missing 1 required positional argument: 'name'"
     ]
    }
   ],
   "source": [
    "kenneth = Thief()  # This is an instantiation of the Thief class\n",
    "kenneth "
   ]
  },
  {
   "cell_type": "code",
   "execution_count": null,
   "metadata": {},
   "outputs": [],
   "source": [
    "kenneth = Thief(\"Johnny\")  # This is the instantiation with the name, and sneaky arguments provdided\n",
    "kenneth.name"
   ]
  },
  {
   "cell_type": "code",
   "execution_count": null,
   "metadata": {
    "collapsed": true
   },
   "outputs": [],
   "source": []
  },
  {
   "cell_type": "markdown",
   "metadata": {},
   "source": [
    "To access any members (attributes, methods, etc.) of class you must use dot syntax."
   ]
  },
  {
   "cell_type": "code",
   "execution_count": null,
   "metadata": {},
   "outputs": [],
   "source": [
    "kenneth.sneaky"
   ]
  },
  {
   "cell_type": "code",
   "execution_count": null,
   "metadata": {},
   "outputs": [],
   "source": [
    "Thief.sneaky  # You can also do this on the class itself."
   ]
  },
  {
   "cell_type": "markdown",
   "metadata": {},
   "source": [
    "This how to change attribute values for an instance of a class."
   ]
  },
  {
   "cell_type": "code",
   "execution_count": null,
   "metadata": {},
   "outputs": [],
   "source": [
    "# kenneth.sneaky = False  \n",
    "# kenneth.sneaky"
   ]
  },
  {
   "cell_type": "code",
   "execution_count": null,
   "metadata": {
    "collapsed": true
   },
   "outputs": [],
   "source": [
    "#del kenneth"
   ]
  },
  {
   "cell_type": "markdown",
   "metadata": {},
   "source": [
    "Typing 'kenneth' now results in:\n",
    "```python\n",
    "NameError: name 'kenneth' is not defined\n",
    "```"
   ]
  },
  {
   "cell_type": "code",
   "execution_count": null,
   "metadata": {},
   "outputs": [],
   "source": [
    "kenneth.pickpocket()"
   ]
  },
  {
   "cell_type": "markdown",
   "metadata": {},
   "source": [
    "## Code Challenges\n",
    "This class should look familiar!\n",
    "I need you to add a method name praise. The method should return a positive message about the student which includes the name attribute. As an example, it could say \"You're doing a great job, Jacinta!\" or \"I really like your hair today, Michael!\".\n",
    "Feel free to change the name attribute to your own name, too!\n",
    "```python\n",
    "class Student:\n",
    "    name = \"Your Name\"\n",
    "    \n",
    "    #Your code goes here:\n",
    "    def praise(self):\n",
    "        return \"You're doing a great job, {}\".format(self.name)\n",
    "```"
   ]
  },
  {
   "cell_type": "markdown",
   "metadata": {},
   "source": [
    "Alright, I need you make a new method named feedback. It should take an argument named grade. Methods take arguments just like functions do. You'll still need self in there, though.\n",
    "If grade is above 50, return the result of the praise method. If it's 50 or below, return the reassurance method's result.\n",
    "\n",
    "```python\n",
    "class Student:\n",
    "    name = \"Your Name\"\n",
    "    \n",
    "    def praise(self):\n",
    "        return \"You inspire me, {}\".format(self.name)\n",
    "    \n",
    "    def reassurance(self):\n",
    "        return \"Chin up, {}. You'll get it next time!\".format(self.name)\n",
    "        \n",
    "    #your code goes here:\n",
    "    def feedback(self, name):\n",
    "        if grade > 50:\n",
    "            return self.praise()\n",
    "        elif grade < 50 or grade == 50:\n",
    "            return self.reasurrance()\n",
    "```        "
   ]
  },
  {
   "cell_type": "code",
   "execution_count": null,
   "metadata": {},
   "outputs": [],
   "source": [
    "kenneth.hide(4)  # Feeding an argument to method"
   ]
  },
  {
   "cell_type": "markdown",
   "metadata": {},
   "source": [
    "INIT Method in action:"
   ]
  },
  {
   "cell_type": "code",
   "execution_count": null,
   "metadata": {
    "collapsed": true
   },
   "outputs": [],
   "source": [
    "charles = Thief('charles', scars=None, favorite_weapon=\"Comedy\")"
   ]
  },
  {
   "cell_type": "code",
   "execution_count": null,
   "metadata": {},
   "outputs": [],
   "source": [
    "charles.favorite_weapon"
   ]
  },
  {
   "cell_type": "code",
   "execution_count": null,
   "metadata": {
    "collapsed": true
   },
   "outputs": [],
   "source": [
    "charles.scars"
   ]
  },
  {
   "cell_type": "markdown",
   "metadata": {},
   "source": [
    "Setattr Sneaky Way:\n",
    "    \n",
    "So what's the sneakier way than using setattr()? Every object has an attribute named __dict__ that is a dictionary representation of the writable attributes of an object. You can update dictionaries so you could do:\n",
    "```python\n",
    "class Thief:\n",
    "    def __init__(self, name, **kwargs):\n",
    "        self.name = name\n",
    "        self.__dict__.update(kwargs)\n",
    "```        \n",
    "Usually, though, you don't want to update .__dict__ directly as it's mostly meant to be a read-only resource. Just because you can write to it doesn't mean you should!"
   ]
  },
  {
   "cell_type": "markdown",
   "metadata": {},
   "source": [
    "## Code Challenges"
   ]
  },
  {
   "cell_type": "markdown",
   "metadata": {},
   "source": [
    "Our Student class is coming along nicely!\n",
    "I'd like to be able to set the name attribute at the same time that I create an instance. Can you add the code for doing that? Remember, you'll need to override the __init__ method.\n",
    "\n",
    "Sometimes I have other attributes I need to store on a Student instance, though. Can you use **kwargs and setattr to add attributes for any other key/value pairs I want to send to the instance when I create it?\n",
    "\n",
    "```python\n",
    "class Student:\n",
    "    name = \"Your Name\"\n",
    "    \n",
    "    Insert Your code here:\n",
    "    def __init__(self, name, **kwargs):\n",
    "        self.name = name\n",
    "        \n",
    "        for key, value in kwargs.items():\n",
    "            setattr(self, key, value)\n",
    "    **************************************\n",
    "    \n",
    "    def praise(self):\n",
    "        return \"You inspire me, {}\".format(self.name)\n",
    "    \n",
    "    def reassurance(self):\n",
    "        return \"Chin up, {}. You'll get it next time!\".format(self.name)\n",
    "    \n",
    "    def feedback(self, grade):\n",
    "        if grade > 50:\n",
    "            return self.praise()\n",
    "        return self.reassurance()\n",
    "```"
   ]
  },
  {
   "cell_type": "markdown",
   "metadata": {},
   "source": [
    "OK, let's combine everything we've done so far into one challenge!\n",
    "First, create a class named RaceCar. In the __init__ for the class, take arguments for color and fuel_remaining. Be sure to set these as attributes on the instance.\n",
    "Also, use setattr to take any other keyword arguments that come in.\n",
    "\n",
    "Vrroom!\n",
    "OK, now let's add a method named run_lap. It'll take a length argument. It should reduce the fuel_remaining attribute by length multiplied by 0.125.\n",
    "Oh, and add a laps attribute to the class, set to 0, and increment it each time the run_lap method is called.\n",
    "\n",
    "Great! One last thing.\n",
    "In Python, attributes defined on the class, but not an instance, are universal. So if you change the value of the attribute, any instance that doesn't have it set explicitly will have its value changed, too!\n",
    "For example, right now, if we made a RaceCar instance named red_car, then did RaceCar.laps = 10, red_car.laps would be 10!\n",
    "To prevent this, be sure to set the laps attribute inside of your __init__ method (it doesn't have to be a keyword argument, though). If you already did it, just hit that \"run\" button and you're good to go!\n",
    "\n",
    "```python \n",
    "class RaceCar:\n",
    "    laps = 0\n",
    "\n",
    "    def __init__(self, color, fuel_remaining, **kwargs):\n",
    "        self.color = color\n",
    "        self.fuel_remaining = fuel_remaining\n",
    "        self.laps = 0\n",
    "        \n",
    "        for key, value in kwargs.items():\n",
    "            setattr(self, key, value)\n",
    "            \n",
    "    def run_lap(self, length):\n",
    "        self.laps += 1\n",
    "        self.fuel_remaining -= length * 0.125\n",
    "    \n",
    "    \n",
    "```"
   ]
  },
  {
   "cell_type": "markdown",
   "metadata": {},
   "source": [
    "# Inheritance\n",
    "- Parent or Super class: the class that a class inherits from. \n",
    "- All classes have the ultimate ancestor of object.\n",
    "- Child or Sub class: the class that inherits from a particular class.\n",
    "\n",
    "Consider this:\n",
    "```python\n",
    "class Symbol:\n",
    "    pass\n",
    "\n",
    "class Letter(Symbol):\n",
    "    pass\n",
    "\n",
    "class Alpha(Letter):\n",
    "    pass\n",
    "```    \n",
    "The class Letter has two superclasses: Symbol and object (since Symbol inherits from object even though we didn't explicitly state it). Letter has one subclass, Alpha.\n",
    "\n",
    "An instance of the class Alpha could use any attributes or methods that were defined on Symbol or Letter. Those two classes, though, wouldn't have access to attributes or methods that belonged to Alpha. Inheritance is a one-way street."
   ]
  },
  {
   "cell_type": "markdown",
   "metadata": {},
   "source": [
    "### About Super()\n",
    "The super() function lets us call a bit of code from the parent class inside our own class. This is really helpful when you need to override a method from the superclass, defining your own version, but keep the effects of the parent class's version of the code.\n",
    "\n",
    "For more about super() than you probably want to know at this point, check out this blog post from the excellent Raymond Hettinger.\n",
    "https://rhettinger.wordpress.com/2011/05/26/super-considered-super/"
   ]
  },
  {
   "cell_type": "markdown",
   "metadata": {},
   "source": [
    "# Code Challenge\n",
    "I've made you a super-simple Inventory class that would let someone store items in it. Not the most useful class, but we'll build something better in a few videos.\n",
    "For now, though, I need you to create a new class, SortedInventory that should be a subclass of Inventory.\n",
    "You can just put pass in the body of your class for this step.\n",
    "\n",
    "Great! Now override the add_item method. Use super() in it to make sure the item still gets added to the list.\n",
    "\n",
    "Sorted inventories should be just that: sorted. Right now, we just add an item onto the slots list whenever our add_item method is called. Use the list.sort() method to make sure the slots list gets sorted after an item is added. Only do this in the SortedInventory class.\n",
    "```python\n",
    "class Inventory:\n",
    "    def __init__(self):\n",
    "        self.slots = []\n",
    "\n",
    "    def add_item(self, item):\n",
    "        self.slots.append(item)\n",
    "        \n",
    "class SortedInventory(Inventory):\n",
    "    def add_item(self, item):\n",
    "        super().add_item(item)\n",
    "        self.slots.sort()\n",
    "```"
   ]
  },
  {
   "cell_type": "raw",
   "metadata": {
    "collapsed": true
   },
   "source": [
    "You can use class.__mro__ to look at your class's method resolution order (MRO) if you're curious. Or use the inspect.getmro() function with your class to get the same information. This can be really handy if you're not sure what order the classes are being assembled.\n",
    "\n",
    "When you're using multiple inheritance, super() calls become really important. They let things like __init__ travel all the way up the chain to make sure the class has all of the bits and pieces that it needs.\n",
    "\n",
    "isinstance(<object>, <class>) - This function will tell you whether or not <object> is an instance of <class>. If it could be an instance of several classes, you can use a tuple of classes like so: isinstance(<object>, (<class1>, <class2>, <class3>)).\n",
    "\n",
    "issubclass(<class>, <class>) - This function will tell you whether or not one class is a descendent of another class. Just like isinstance(), you can use a tuple of classes to compare against.\n",
    "\n",
    "type(<instance>) will give you the class for an instance, as will instance.__class__. Neither of these is particularly useful."
   ]
  },
  {
   "cell_type": "code",
   "execution_count": null,
   "metadata": {},
   "outputs": [],
   "source": [
    "from thieves import Thief\n",
    "\n",
    "kenneth = Thief(name='Charles', sneaky=False)\n",
    "print(kenneth.sneaky)\n",
    "print(kenneth.agile)\n",
    "print(kenneth.hide(8))"
   ]
  },
  {
   "cell_type": "code",
   "execution_count": null,
   "metadata": {},
   "outputs": [],
   "source": [
    "from characters import Character\n",
    "issubclass(Thief, Character)"
   ]
  },
  {
   "cell_type": "code",
   "execution_count": null,
   "metadata": {},
   "outputs": [],
   "source": [
    "type(kenneth)"
   ]
  },
  {
   "cell_type": "code",
   "execution_count": null,
   "metadata": {},
   "outputs": [],
   "source": [
    "kenneth.__class__"
   ]
  },
  {
   "cell_type": "code",
   "execution_count": null,
   "metadata": {},
   "outputs": [],
   "source": [
    "kenneth.__class__.__name__"
   ]
  },
  {
   "cell_type": "code",
   "execution_count": null,
   "metadata": {},
   "outputs": [],
   "source": [
    "isinstance(kenneth, Thief)"
   ]
  },
  {
   "cell_type": "markdown",
   "metadata": {
    "collapsed": true
   },
   "source": [
    "# Code Challenge \n",
    "Alright, here's a fun task!\n",
    "Create a function named combiner that takes a single argument, which will be a list made up of strings and numbers.\n",
    "Return a single string that is a combination of all of the strings in the list and then the sum of all of the numbers. For example, with the input [\"apple\", 5.2, \"dog\", 8], combiner would return \"appledog13.2\". Be sure to use isinstance to solve this as I might try to trick you.\n",
    "```python\n",
    "def combiner(list):\n",
    "    strings = ''\n",
    "    num = 0\n",
    "    for item in list:\n",
    "        if isinstance(item, str):\n",
    "            strings += item\n",
    "        elif isinstance(item, (int,float)):\n",
    "            num += item\n",
    "    return strings + str(num)\n",
    "```"
   ]
  },
  {
   "cell_type": "markdown",
   "metadata": {
    "collapsed": true
   },
   "source": [
    "# Controlling Conversion\n",
    "You can read more about the magic methods. There are a lot of them, though, so don't try and memorize them all. You'll find that, over time, you memorize the most useful ones. Here are the ones I recommend you start with:\n",
    "\n",
    "https://docs.python.org/3/reference/datamodel.html#special-method-names\n",
    "```python\n",
    "__str__ # Control how your instances turn into strings\n",
    "__int__ # Control int() conversion\n",
    "__init__ # Customize the initialization of your instances\n",
    "```"
   ]
  },
  {
   "cell_type": "code",
   "execution_count": 25,
   "metadata": {
    "collapsed": true
   },
   "outputs": [],
   "source": [
    "from numstring import NumString"
   ]
  },
  {
   "cell_type": "code",
   "execution_count": 26,
   "metadata": {},
   "outputs": [],
   "source": [
    "five = NumString(5)"
   ]
  },
  {
   "cell_type": "code",
   "execution_count": 27,
   "metadata": {},
   "outputs": [
    {
     "name": "stdout",
     "output_type": "stream",
     "text": [
      "5\n"
     ]
    }
   ],
   "source": [
    "print(five)"
   ]
  },
  {
   "cell_type": "code",
   "execution_count": 28,
   "metadata": {},
   "outputs": [
    {
     "data": {
      "text/plain": [
       "'5'"
      ]
     },
     "execution_count": 28,
     "metadata": {},
     "output_type": "execute_result"
    }
   ],
   "source": [
    "str(five)"
   ]
  },
  {
   "cell_type": "code",
   "execution_count": 29,
   "metadata": {},
   "outputs": [
    {
     "data": {
      "text/plain": [
       "<numstring.NumString at 0x111312860>"
      ]
     },
     "execution_count": 29,
     "metadata": {},
     "output_type": "execute_result"
    }
   ],
   "source": [
    "five"
   ]
  },
  {
   "cell_type": "code",
   "execution_count": 30,
   "metadata": {},
   "outputs": [
    {
     "data": {
      "text/plain": [
       "5"
      ]
     },
     "execution_count": 30,
     "metadata": {},
     "output_type": "execute_result"
    }
   ],
   "source": [
    "int(5)"
   ]
  },
  {
   "cell_type": "code",
   "execution_count": 31,
   "metadata": {},
   "outputs": [
    {
     "data": {
      "text/plain": [
       "5.0"
      ]
     },
     "execution_count": 31,
     "metadata": {},
     "output_type": "execute_result"
    }
   ],
   "source": [
    "float(5)"
   ]
  },
  {
   "cell_type": "code",
   "execution_count": 32,
   "metadata": {},
   "outputs": [
    {
     "data": {
      "text/plain": [
       "9"
      ]
     },
     "execution_count": 32,
     "metadata": {},
     "output_type": "execute_result"
    }
   ],
   "source": [
    "five + 4"
   ]
  },
  {
   "cell_type": "code",
   "execution_count": 33,
   "metadata": {},
   "outputs": [
    {
     "data": {
      "text/plain": [
       "6.2"
      ]
     },
     "execution_count": 33,
     "metadata": {},
     "output_type": "execute_result"
    }
   ],
   "source": [
    "NumString(2.2) + 4"
   ]
  },
  {
   "cell_type": "code",
   "execution_count": 34,
   "metadata": {},
   "outputs": [
    {
     "name": "stdout",
     "output_type": "stream",
     "text": [
      "10\n"
     ]
    },
    {
     "ename": "TypeError",
     "evalue": "unsupported operand type(s) for +: 'int' and 'NumString'",
     "output_type": "error",
     "traceback": [
      "\u001b[0;31m---------------------------------------------------------------------------\u001b[0m",
      "\u001b[0;31mTypeError\u001b[0m                                 Traceback (most recent call last)",
      "\u001b[0;32m<ipython-input-34-8ef1d74b3680>\u001b[0m in \u001b[0;36m<module>\u001b[0;34m()\u001b[0m\n\u001b[1;32m      1\u001b[0m \u001b[0mage\u001b[0m \u001b[0;34m=\u001b[0m \u001b[0mNumString\u001b[0m\u001b[0;34m(\u001b[0m\u001b[0;36m5\u001b[0m\u001b[0;34m)\u001b[0m\u001b[0;34m\u001b[0m\u001b[0m\n\u001b[1;32m      2\u001b[0m \u001b[0mprint\u001b[0m\u001b[0;34m(\u001b[0m\u001b[0mage\u001b[0m\u001b[0;34m+\u001b[0m\u001b[0;36m5\u001b[0m\u001b[0;34m)\u001b[0m\u001b[0;34m\u001b[0m\u001b[0m\n\u001b[0;32m----> 3\u001b[0;31m \u001b[0mprint\u001b[0m\u001b[0;34m(\u001b[0m\u001b[0;36m5\u001b[0m\u001b[0;34m+\u001b[0m\u001b[0mage\u001b[0m\u001b[0;34m)\u001b[0m\u001b[0;34m\u001b[0m\u001b[0m\n\u001b[0m",
      "\u001b[0;31mTypeError\u001b[0m: unsupported operand type(s) for +: 'int' and 'NumString'"
     ]
    }
   ],
   "source": [
    "age = NumString(5)\n",
    "print(age+5)\n",
    "print(5+age)"
   ]
  },
  {
   "cell_type": "code",
   "execution_count": null,
   "metadata": {
    "collapsed": true
   },
   "outputs": [],
   "source": []
  },
  {
   "cell_type": "markdown",
   "metadata": {
    "collapsed": true
   },
   "source": [
    "Let's use ```python__str__``` to turn Python code into Morse code! OK, not really, but we can turn class instances into a representation of their Morse code counterparts.\n",
    "I want you to add a ```python__str__``` method to the Letter class that loops through the pattern attribute of an instance and returns \"dot\" for every \".\" (period) and \"dash\" for every \"_\" (underscore). Join them with a hyphen.\n",
    "I've included an S class as an example (I'll generate the others when I test your code) and it's ```python__str__``` output should be \"dot-dot-dot\"."
   ]
  },
  {
   "cell_type": "code",
   "execution_count": null,
   "metadata": {
    "collapsed": true
   },
   "outputs": [],
   "source": [
    "class Letter:\n",
    "    def __init__(self, pattern=None):\n",
    "        self.pattern = pattern\n",
    "        \n",
    "    def __str__(self):\n",
    "        pattern_str = ''\n",
    "        for element in pattern:\n",
    "            if element == '.':\n",
    "                pattern_str += 'dot-'\n",
    "            elif element == '_':\n",
    "                pattern_str += 'dash-'\n",
    "        return pattern_str[:-1]\n",
    "    \n",
    "\n",
    "class S(Letter):\n",
    "    def __init__(self):\n",
    "        pattern = ['.', '_', '.']\n",
    "        super().__init__(pattern)\n",
    "        "
   ]
  },
  {
   "cell_type": "code",
   "execution_count": null,
   "metadata": {},
   "outputs": [],
   "source": [
    "test = Letter(pattern=['.', '_', '_'])\n",
    "test.__str__()"
   ]
  },
  {
   "cell_type": "markdown",
   "metadata": {
    "collapsed": true
   },
   "source": [
    "# Code Challenge\n",
    "This class should look familiar!\n",
    "I need to you add __mul__ to NumString so we can multiply our number string by a number. Go ahead and add __rmul__, too.\n",
    "\n",
    "Now wrap it up by adding in __imul__, which does in-place multiplication. Be sure to update self.value!"
   ]
  },
  {
   "cell_type": "code",
   "execution_count": 35,
   "metadata": {
    "collapsed": true
   },
   "outputs": [],
   "source": [
    "class NumString:\n",
    "    def __init__(self, value):\n",
    "        self.value = str(value)\n",
    "\n",
    "    def __str__(self):\n",
    "         return self.value\n",
    "\n",
    "    def __int__(self):\n",
    "        return int(self.value)\n",
    "\n",
    "    def __float__(self):\n",
    "        return float(self.value)\n",
    "    \n",
    "    def __add__(self, other):\n",
    "        if '.' in self.value:\n",
    "            return float(self) + other\n",
    "        return int(self) + other\n",
    "      \n",
    "    def __radd__(self, other):\n",
    "        return self + other\n",
    "    \n",
    "    def __iadd__(self, other):\n",
    "        self.value = self + other\n",
    "        return self.value\n",
    "    \n",
    "    def __mul__(self, other):\n",
    "        if '.' in self.value:\n",
    "            return float(self) * other\n",
    "        return int(self) * other\n",
    "    \n",
    "    def __rmul__(self, other):\n",
    "        return self * other\n",
    "    \n",
    "    def __imul__(self, other):\n",
    "        self.value = self * other\n",
    "        return self.value"
   ]
  },
  {
   "cell_type": "code",
   "execution_count": 1,
   "metadata": {
    "collapsed": true
   },
   "outputs": [],
   "source": [
    "from inventory import Inventory\n",
    "from items import Item"
   ]
  },
  {
   "cell_type": "code",
   "execution_count": 4,
   "metadata": {},
   "outputs": [
    {
     "data": {
      "text/plain": [
       "1"
      ]
     },
     "execution_count": 4,
     "metadata": {},
     "output_type": "execute_result"
    }
   ],
   "source": [
    "coin = Item('coin', 'a gold coin')\n",
    "pouch = Inventory()\n",
    "pouch.add(coin)\n",
    "len(pouch)"
   ]
  },
  {
   "cell_type": "code",
   "execution_count": 6,
   "metadata": {},
   "outputs": [
    {
     "data": {
      "text/plain": [
       "True"
      ]
     },
     "execution_count": 6,
     "metadata": {},
     "output_type": "execute_result"
    }
   ],
   "source": [
    "coin in pouch"
   ]
  },
  {
   "cell_type": "markdown",
   "metadata": {},
   "source": [
    "One nice thing about emulating built-ins is that you can have your cake and eat it, too. You can make a class that's iterable but not searchable, or vice versa. This gives you a lot of control over how your classes are used.\n",
    "\n",
    "__yield__\n",
    "\n",
    "Briefly, yield lets you send data back out of a function without ending the execution of the function. Here's an example:\n",
    "```python\n",
    "def get_numbers():\n",
    "    numbers = [4, 8, 15, 16, 23, 42]\n",
    "    for number in numbers:\n",
    "        yield number```\n",
    "If we used this function, with something like numbers = get_numbers(), we'd have a generator object. This is a special kind of object that has a value, a pointer to the current index, and a ```python__next__``` method (ooh, special method!) that knows how to get the next item from the iterable. We can do next(numbers) and we'd get 4, then 8, then 15, and so on.\n",
    "\n",
    "Since we're just returning values from an iterable, we can use yield from to skip the entire for loop:\n",
    "```python\n",
    "def get_numbers():\n",
    "    numbers = [4, 8, 15, 16, 23, 42]\n",
    "    yield from numbers```\n",
    "If you want to read more about yield and yield from, here are some docs.\n",
    "https://docs.python.org/3/reference/simple_stmts.html#yield"
   ]
  },
  {
   "cell_type": "code",
   "execution_count": 8,
   "metadata": {},
   "outputs": [
    {
     "name": "stdout",
     "output_type": "stream",
     "text": [
      "a gold coin\n",
      "sharp\n"
     ]
    }
   ],
   "source": [
    "from items import Weapon\n",
    "sword = Weapon('sword', 'sharp', 50)\n",
    "pouch.add(sword)\n",
    "for item in pouch:\n",
    "    print(item.description)"
   ]
  },
  {
   "cell_type": "markdown",
   "metadata": {
    "collapsed": true
   },
   "source": [
    "# Code Challenge\n",
    "Let's make our Letter class better for our Morse code challenge. Add an ```__iter__``` method to the Letter class so the letter's pattern can be iterated through. You'll want to use yield or yield from.\n",
    "Do not convert the pattern to dots and dashes in ```__iter__```.\n",
    "```python\n",
    "class Letter:\n",
    "    def __init__(self, pattern=None):\n",
    "        self.pattern = pattern\n",
    "      \n",
    "    def __str__(self):\n",
    "        output = []\n",
    "        for blip in self.pattern:\n",
    "            if blip == '.':\n",
    "                output.append('dot')\n",
    "            else:\n",
    "                output.append('dash')\n",
    "        return '-'.join(output)\n",
    "        \n",
    "    #Your code here:\n",
    "    \n",
    "    def __iter__(self):\n",
    "        yield from self.pattern\n",
    "        \n",
    "     #   \n",
    "\n",
    "class S(Letter):\n",
    "    def __init__(self):\n",
    "         pattern = ['.', '.', '.']\n",
    "         super().__init__(pattern)\n",
    "```\n",
    "\n"
   ]
  },
  {
   "cell_type": "markdown",
   "metadata": {},
   "source": [
    "Completely subclassing built-ins isn't the easiest skill in the world. You're doing an amazing job on this!\n",
    "\n",
    "Just because immutable types expect you to override ```__new__``` doesn't mean you can't use ```__init__``` on them. They still call the method but you can't change the initialization of the object in them."
   ]
  },
  {
   "cell_type": "code",
   "execution_count": 3,
   "metadata": {
    "collapsed": true
   },
   "outputs": [],
   "source": [
    "class ReversedStr(str):\n",
    "    def __new__(*args, **kwargs):  # Does not take self as an arg, because __new__ is a class method.\n",
    "        # Some methods work on classes, where others work on instances.\n",
    "        # Super is not used here because it not necessarily safe to do so using an imutable type like a string.\n",
    "        self = str.__new__(*args, **kwargs)  # Self could be any variable name.\n",
    "        self = self[::-1]\n",
    "        return self  # __new__ uses return whereas __init__ does not."
   ]
  },
  {
   "cell_type": "code",
   "execution_count": 5,
   "metadata": {},
   "outputs": [
    {
     "name": "stdout",
     "output_type": "stream",
     "text": [
      "olleh\n"
     ]
    }
   ],
   "source": [
    "rs = ReversedStr('hello')\n",
    "print(rs)"
   ]
  },
  {
   "cell_type": "code",
   "execution_count": 7,
   "metadata": {
    "collapsed": true
   },
   "outputs": [],
   "source": [
    "import copy\n",
    "\n",
    "class FilledList(list):\n",
    "    def __init__(self, count, value, *args, **kwargs):\n",
    "        super().__init__()\n",
    "        for _ in range(count):\n",
    "            self.append(copy.copy(value))"
   ]
  },
  {
   "cell_type": "code",
   "execution_count": 9,
   "metadata": {},
   "outputs": [
    {
     "name": "stdout",
     "output_type": "stream",
     "text": [
      "[[1, 2, 3, 4, 5], [1, 2, 3, 4, 5], [1, 2, 3, 4, 5], [1, 2, 3, 4, 5], [1, 2, 3, 4, 5]]\n"
     ]
    }
   ],
   "source": [
    "fl = FilledList(5,[1,2,3,4,5])\n",
    "print(fl)"
   ]
  },
  {
   "cell_type": "code",
   "execution_count": 13,
   "metadata": {
    "collapsed": true
   },
   "outputs": [],
   "source": [
    "class JavaScriptObject(dict):\n",
    "    def __getattribute__(self, item):\n",
    "        try:\n",
    "            return self[item]\n",
    "        except KeyError:\n",
    "            return super().__getattribute__(item)"
   ]
  },
  {
   "cell_type": "code",
   "execution_count": 14,
   "metadata": {},
   "outputs": [
    {
     "data": {
      "text/plain": [
       "'Kenneth'"
      ]
     },
     "execution_count": 14,
     "metadata": {},
     "output_type": "execute_result"
    }
   ],
   "source": [
    "jso = JavaScriptObject({'name': 'Kenneth'})\n",
    "jso.language = 'Python'\n",
    "jso.name"
   ]
  },
  {
   "cell_type": "code",
   "execution_count": 15,
   "metadata": {},
   "outputs": [
    {
     "data": {
      "text/plain": [
       "'Python'"
      ]
     },
     "execution_count": 15,
     "metadata": {},
     "output_type": "execute_result"
    }
   ],
   "source": [
    "jso.language"
   ]
  },
  {
   "cell_type": "code",
   "execution_count": 16,
   "metadata": {},
   "outputs": [
    {
     "ename": "AttributeError",
     "evalue": "'JavaScriptObject' object has no attribute 'fake'",
     "output_type": "error",
     "traceback": [
      "\u001b[0;31m---------------------------------------------------------------------------\u001b[0m",
      "\u001b[0;31mKeyError\u001b[0m                                  Traceback (most recent call last)",
      "\u001b[0;32m<ipython-input-13-c8f0ff4776fe>\u001b[0m in \u001b[0;36m__getattribute__\u001b[0;34m(self, item)\u001b[0m\n\u001b[1;32m      3\u001b[0m         \u001b[0;32mtry\u001b[0m\u001b[0;34m:\u001b[0m\u001b[0;34m\u001b[0m\u001b[0m\n\u001b[0;32m----> 4\u001b[0;31m             \u001b[0;32mreturn\u001b[0m \u001b[0mself\u001b[0m\u001b[0;34m[\u001b[0m\u001b[0mitem\u001b[0m\u001b[0;34m]\u001b[0m\u001b[0;34m\u001b[0m\u001b[0m\n\u001b[0m\u001b[1;32m      5\u001b[0m         \u001b[0;32mexcept\u001b[0m \u001b[0mKeyError\u001b[0m\u001b[0;34m:\u001b[0m\u001b[0;34m\u001b[0m\u001b[0m\n",
      "\u001b[0;31mKeyError\u001b[0m: 'fake'",
      "\nDuring handling of the above exception, another exception occurred:\n",
      "\u001b[0;31mAttributeError\u001b[0m                            Traceback (most recent call last)",
      "\u001b[0;32m<ipython-input-16-93100178dd4a>\u001b[0m in \u001b[0;36m<module>\u001b[0;34m()\u001b[0m\n\u001b[0;32m----> 1\u001b[0;31m \u001b[0mjso\u001b[0m\u001b[0;34m.\u001b[0m\u001b[0mfake\u001b[0m\u001b[0;34m\u001b[0m\u001b[0m\n\u001b[0m",
      "\u001b[0;32m<ipython-input-13-c8f0ff4776fe>\u001b[0m in \u001b[0;36m__getattribute__\u001b[0;34m(self, item)\u001b[0m\n\u001b[1;32m      4\u001b[0m             \u001b[0;32mreturn\u001b[0m \u001b[0mself\u001b[0m\u001b[0;34m[\u001b[0m\u001b[0mitem\u001b[0m\u001b[0;34m]\u001b[0m\u001b[0;34m\u001b[0m\u001b[0m\n\u001b[1;32m      5\u001b[0m         \u001b[0;32mexcept\u001b[0m \u001b[0mKeyError\u001b[0m\u001b[0;34m:\u001b[0m\u001b[0;34m\u001b[0m\u001b[0m\n\u001b[0;32m----> 6\u001b[0;31m             \u001b[0;32mreturn\u001b[0m \u001b[0msuper\u001b[0m\u001b[0;34m(\u001b[0m\u001b[0;34m)\u001b[0m\u001b[0;34m.\u001b[0m\u001b[0m__getattribute__\u001b[0m\u001b[0;34m(\u001b[0m\u001b[0mitem\u001b[0m\u001b[0;34m)\u001b[0m\u001b[0;34m\u001b[0m\u001b[0m\n\u001b[0m",
      "\u001b[0;31mAttributeError\u001b[0m: 'JavaScriptObject' object has no attribute 'fake'"
     ]
    }
   ],
   "source": [
    "jso.fake"
   ]
  },
  {
   "cell_type": "markdown",
   "metadata": {},
   "source": [
    "# Code Challenge\n",
    "\n",
    "Alright, time to subclass int.\n",
    "Make a class named Double that extends int. For now, just put pass inside the class.\n",
    "\n",
    "Now override __new__. Create a new int instance from whatever is passed in as arguments and keyword arguments. Return that instance.\n",
    "You should remove the pass.\n",
    "\n",
    "And, finally, double (multiply by two) the int that you created in __new__. Return the new, doubled value. For example, Double(5) would return a 10.\n",
    "\n",
    "```python\n",
    "class Double(int):\n",
    "    def __new__(*args, **kwargs):\n",
    "        self = int.__new__(*args, **kwargs)\n",
    "        self = self * 2\n",
    "        return self\n",
    "```"
   ]
  },
  {
   "cell_type": "markdown",
   "metadata": {},
   "source": [
    "# Code Challenge\n",
    "Now I want you to make a subclass of list. Name it Liar.\n",
    "Override the __len__ method so that it always returns the wrong number of items in the list. For example, if a list has 5 members, the Liar class might say it has 8 or 2.\n",
    "You'll probably need super() for this.\n",
    "```python\n",
    "class Liar(list):\n",
    "    def __len__(self):\n",
    "        real_num = super().__len__()\n",
    "        return real_num + 2\n",
    "```        "
   ]
  },
  {
   "cell_type": "markdown",
   "metadata": {},
   "source": [
    "# Constructors\n",
    "Constructors, as most classmethods would be considered, are a common sight in other languages. They're less common in Python but still really useful. I highly recommend playing around with them outside of this course and getting comfortable with them.\n",
    "\n",
    "As for staticmethods, they're...weird. A staticmethod is a method that doesn't require an instance (self) or a class (cls). So they belong to a class because, logically, they belong there. Most of the time, though, you're better served by just creating a function in the same module as your class.\n",
    "\n",
    "So, would it be possible to do create_bookcase without it being a classmethod? Yes and no. We could write the exact same method with a few differences, like using self instead of cls, and then leave off the decorator. We'd have to create an instance of the class first, though. It'd look something like this:\n",
    "```python\n",
    "def create_bookcase(self, book_list):\n",
    "    for author, title in book_list:\n",
    "        self.append(Book(author, title))\n",
    "    return self\n",
    "```    \n",
    "We could leave off that last line, too, but it's generally a best practice to always have functions and methods return. Our use of it becomes a little weird to write out, though.\n",
    "```python\n",
    ">>> Bookcase().create_bookcase([(\"Eric Matthes\", \"Crash Course Python\")])\n",
    "```\n",
    "We have to create the instance first, with Bookcase() and then call the method. By using a class method, we move the instance creation into the method where it makes more sense. It's a small and fairly subtle design decision but it makes for a nicer interaction in the end."
   ]
  },
  {
   "cell_type": "code",
   "execution_count": 26,
   "metadata": {
    "collapsed": true
   },
   "outputs": [],
   "source": [
    "class Book:\n",
    "    def __init__(self, title, author):\n",
    "        self.title = title\n",
    "        self.author = author\n",
    "        \n",
    "    def __str__(self):\n",
    "        return '{} by {}'.format(self.title, self.author)\n",
    "    \n",
    "class Bookcase:\n",
    "    def __init__(self, books=None):\n",
    "        self.books = books\n",
    "        \n",
    "    # The @ symbol marks classmethod as a decorator.\n",
    "    # A decorator is a function that takes another function \n",
    "    # does something with it, and then usually returns that function.\n",
    "    @classmethod  # Do not take self, as first argument!\n",
    "    def create_bookcase(cls, book_list): # cls means class. \n",
    "        books = []\n",
    "        for title, author in book_list:\n",
    "            books.append(Book(title, author))\n",
    "        return cls(books)  # Returns an instance of the class with our list of books.\n"
   ]
  },
  {
   "cell_type": "markdown",
   "metadata": {},
   "source": [
    "The @ symbol marks classmethod as a decorator.\n",
    "A decorator is a function that takes another function does something with it, and then usually returns that function.\n",
    "The class method decorator does some modifying of the expectations of Python's Object class."
   ]
  },
  {
   "cell_type": "code",
   "execution_count": 29,
   "metadata": {},
   "outputs": [
    {
     "name": "stdout",
     "output_type": "stream",
     "text": [
      "<__main__.Bookcase object at 0x10b028da0>\n",
      "[<__main__.Book object at 0x10b028a20>, <__main__.Book object at 0x10b028cc0>]\n",
      "Game of Thrones by George R.R. Martin\n"
     ]
    }
   ],
   "source": [
    "bc = Bookcase.create_bookcase([('Game of Thrones', 'George R.R. Martin'), ('Lord of the Rings', 'J.R.R. Tolkein')])\n",
    "print(bc)\n",
    "print(bc.books)\n",
    "print(str(bc.books[0]))"
   ]
  },
  {
   "cell_type": "markdown",
   "metadata": {},
   "source": [
    "# Code Challenge\n",
    "Let's practice using @classmethod!\n",
    "Create a class method in Letter named from_string that takes a string like \"dash-dot\" and creates an instance with the correct pattern (['_', '.']).\n",
    "```python\n",
    "class Letter:\n",
    "    def __init__(self, pattern=None):\n",
    "        self.pattern = pattern\n",
    "      \n",
    "    def __iter__(self):\n",
    "        yield from self.pattern\n",
    "      \n",
    "    def __str__(self):\n",
    "        output = []\n",
    "        for blip in self:\n",
    "            if blip == '.':\n",
    "                output.append('dot')\n",
    "            else:\n",
    "                output.append('dash')\n",
    "        return '-'.join(output)\n",
    "    \n",
    "    @classmethod\n",
    "    def from_string(cls, str):\n",
    "        split = str.split('-')\n",
    "        pattern = []\n",
    "        for item in split:\n",
    "            if item == 'dash':\n",
    "                pattern.append('_')\n",
    "            elif item == 'dot':\n",
    "                pattern.append('.')\n",
    "        return cls(pattern)\n",
    "            \n",
    "class S(Letter):\n",
    "    def __init__(self):\n",
    "         pattern = ['.', '.', '.']\n",
    "         super().__init__(pattern)\n",
    "```"
   ]
  },
  {
   "cell_type": "markdown",
   "metadata": {},
   "source": [
    "# We're all adults here\n",
    "If you remember nothing else from this video, remember: We're all adults here. Even if you're not legally an adult, in the Python community, you're expected to behave like one and you'll be treated like one, at least as far as code goes.\n",
    "\n",
    "There is no foolproof way of protecting your code from outside use in Python. But if you follow the conventions in this course, you won't have to. Most Python programmers see a method or attribute prefixed with _ and leave it alone. That goes doubly so for methods or attributes with a double underscore preceding but not trailing (```__avoided, not __avoided__```)."
   ]
  },
  {
   "cell_type": "code",
   "execution_count": 38,
   "metadata": {
    "collapsed": true
   },
   "outputs": [],
   "source": [
    "class Protected:\n",
    "    __name = \"Security\"\n",
    "    \n",
    "    def __method(self):\n",
    "        return self.__name"
   ]
  },
  {
   "cell_type": "code",
   "execution_count": 39,
   "metadata": {},
   "outputs": [
    {
     "ename": "AttributeError",
     "evalue": "'Protected' object has no attribute '__name'",
     "output_type": "error",
     "traceback": [
      "\u001b[0;31m---------------------------------------------------------------------------\u001b[0m",
      "\u001b[0;31mAttributeError\u001b[0m                            Traceback (most recent call last)",
      "\u001b[0;32m<ipython-input-39-1c0d81571d7d>\u001b[0m in \u001b[0;36m<module>\u001b[0;34m()\u001b[0m\n\u001b[1;32m      1\u001b[0m \u001b[0mprot\u001b[0m \u001b[0;34m=\u001b[0m \u001b[0mProtected\u001b[0m\u001b[0;34m(\u001b[0m\u001b[0;34m)\u001b[0m\u001b[0;34m\u001b[0m\u001b[0m\n\u001b[0;32m----> 2\u001b[0;31m \u001b[0mprot\u001b[0m\u001b[0;34m.\u001b[0m\u001b[0m__name\u001b[0m\u001b[0;34m\u001b[0m\u001b[0m\n\u001b[0m",
      "\u001b[0;31mAttributeError\u001b[0m: 'Protected' object has no attribute '__name'"
     ]
    }
   ],
   "source": [
    "prot = Protected()\n",
    "prot.__name"
   ]
  },
  {
   "cell_type": "code",
   "execution_count": 40,
   "metadata": {},
   "outputs": [
    {
     "data": {
      "text/plain": [
       "['_Protected__method',\n",
       " '_Protected__name',\n",
       " '__class__',\n",
       " '__delattr__',\n",
       " '__dict__',\n",
       " '__dir__',\n",
       " '__doc__',\n",
       " '__eq__',\n",
       " '__format__',\n",
       " '__ge__',\n",
       " '__getattribute__',\n",
       " '__gt__',\n",
       " '__hash__',\n",
       " '__init__',\n",
       " '__init_subclass__',\n",
       " '__le__',\n",
       " '__lt__',\n",
       " '__module__',\n",
       " '__ne__',\n",
       " '__new__',\n",
       " '__reduce__',\n",
       " '__reduce_ex__',\n",
       " '__repr__',\n",
       " '__setattr__',\n",
       " '__sizeof__',\n",
       " '__str__',\n",
       " '__subclasshook__',\n",
       " '__weakref__']"
      ]
     },
     "execution_count": 40,
     "metadata": {},
     "output_type": "execute_result"
    }
   ],
   "source": [
    "dir(prot) # This is what the __<var or class> syntax does. ['_Protected__method', '_Protected__name']\n",
    "# It is known as name mangling"
   ]
  },
  {
   "cell_type": "code",
   "execution_count": 41,
   "metadata": {},
   "outputs": [
    {
     "data": {
      "text/plain": [
       "'Security'"
      ]
     },
     "execution_count": 41,
     "metadata": {},
     "output_type": "execute_result"
    }
   ],
   "source": [
    "prot._Protected__method()"
   ]
  },
  {
   "cell_type": "code",
   "execution_count": 52,
   "metadata": {
    "collapsed": true
   },
   "outputs": [],
   "source": [
    "class Circle:\n",
    "    def __init__(self, diameter):\n",
    "        self.diameter = diameter\n",
    "        \n",
    "    @property # hides the fact that radius is a method and instead simply return a value or attribute of a class.\n",
    "    def radius(self):\n",
    "        return self.diameter / 2\n",
    "    \n",
    "    @radius.setter\n",
    "    def radius(self, radius):\n",
    "        self.diameter = radius * 2\n",
    "    "
   ]
  },
  {
   "cell_type": "code",
   "execution_count": 53,
   "metadata": {},
   "outputs": [
    {
     "name": "stdout",
     "output_type": "stream",
     "text": [
      "10\n",
      "5.0\n"
     ]
    }
   ],
   "source": [
    "small = Circle(10)\n",
    "print(small.diameter)\n",
    "print(small.radius) # Properties act like attributes "
   ]
  },
  {
   "cell_type": "code",
   "execution_count": 55,
   "metadata": {},
   "outputs": [
    {
     "name": "stdout",
     "output_type": "stream",
     "text": [
      "20\n"
     ]
    }
   ],
   "source": [
    "small.radius = 10 # Properties act like attributes, but to a point. You cannot set them in this particular way without\n",
    "# using radius.setter in your code.\n",
    "print(small.diameter)"
   ]
  },
  {
   "cell_type": "markdown",
   "metadata": {},
   "source": [
    "# Code Challenge\n",
    "Add a new property to the Rectangle class named area. It should calculate and return the area of the Rectangle instance (w * l).\n",
    "```python\n",
    "class Rectangle:\n",
    "    def __init__(self, w, l):\n",
    "        self.w = w\n",
    "        self.l = l\n",
    "      \n",
    "    @property  \n",
    "    def area(self):\n",
    "        return self.w * self.l\n",
    "    \n",
    "    @property\n",
    "    def perimeter(self):\n",
    "        return self.w * 2 + self.l * 2\n",
    "```"
   ]
  },
  {
   "cell_type": "markdown",
   "metadata": {},
   "source": [
    "# Code Challenge\n",
    "We need to be able to set the price of a product through a property setter.\n",
    "Add a new setter (@price.setter) method to the Product class that updates the _price attribute.\n",
    "```python\n",
    "class Product:\n",
    "    _price = 0.0\n",
    "    tax_rate = 0.12\n",
    "  \n",
    "    def __init__(self, base_price):\n",
    "        self._price = base_price\n",
    "    \n",
    "    @property\n",
    "    def price(self):\n",
    "        return self._price + (self._price * self.tax_rate)\n",
    "    \n",
    "    @price.setter\n",
    "    def price(self, price):\n",
    "        self._price = price\n",
    "```"
   ]
  },
  {
   "cell_type": "code",
   "execution_count": 7,
   "metadata": {},
   "outputs": [],
   "source": [
    "# dice.py\n",
    "import random\n",
    "\n",
    "class Die:\n",
    "     def __init__(self, sides=2, value=0):\n",
    "            if not sides >= 2:\n",
    "                 raise ValueError(\"Must have at least two sides\")\n",
    "            if not isinstance(sides, int):\n",
    "                raise ValueError(\"Sides muct be a whole number\")\n",
    "            if not isinstance(value, int):\n",
    "                raise ValueError('Test value must a whole number')\n",
    "            self.value = value or random.randint(1, sides)\n",
    "            \n",
    "class D6(Die):\n",
    "    def __init__(self, value=0):\n",
    "        super().__init__(sides=6, value=value)\n",
    "        \n",
    "    def __int__(self):\n",
    "        return self.value\n",
    "    \n",
    "    def __eq__(self, other):  # eq stands for equals\n",
    "        return int(self) == other\n",
    "    \n",
    "    def __ne__(self, other):  # not equal to\n",
    "        return not int(self) == other\n",
    "    \n",
    "    def __gt__(self, other):  # greater than\n",
    "        return int(self) > other\n",
    "    \n",
    "    def __lt__(self, other):  # less than\n",
    "        return int(self) < other\n",
    "    \n",
    "    def __ge__(self, other):  # greater than or equal\n",
    "        return int(self) > other or int(self) == other\n",
    "    \n",
    "    def __le__(self, other):  # less than or equal to\n",
    "        return int(self) < other or int(self) == other\n",
    "    \n",
    "    def __add__(self, other):\n",
    "        return int(self) + other\n",
    "    \n",
    "    def __radd__(self, other):\n",
    "        return int(self) + other\n",
    "    \n",
    "    def __repr__(self):\n",
    "        return str(self.value)\n",
    "        "
   ]
  },
  {
   "cell_type": "code",
   "execution_count": 10,
   "metadata": {},
   "outputs": [
    {
     "data": {
      "text/plain": [
       "2"
      ]
     },
     "execution_count": 10,
     "metadata": {},
     "output_type": "execute_result"
    }
   ],
   "source": [
    "d = Die()\n",
    "d.value"
   ]
  },
  {
   "cell_type": "code",
   "execution_count": 11,
   "metadata": {},
   "outputs": [
    {
     "data": {
      "text/plain": [
       "4"
      ]
     },
     "execution_count": 11,
     "metadata": {},
     "output_type": "execute_result"
    }
   ],
   "source": [
    "d6 = Die(sides=6)\n",
    "d6.value"
   ]
  },
  {
   "cell_type": "code",
   "execution_count": 12,
   "metadata": {},
   "outputs": [
    {
     "data": {
      "text/plain": [
       "4"
      ]
     },
     "execution_count": 12,
     "metadata": {},
     "output_type": "execute_result"
    }
   ],
   "source": [
    "d6 = D6()\n",
    "d6.value"
   ]
  },
  {
   "cell_type": "code",
   "execution_count": 15,
   "metadata": {},
   "outputs": [
    {
     "name": "stdout",
     "output_type": "stream",
     "text": [
      "False\n",
      "True\n",
      "True\n",
      "True\n",
      "True\n",
      "6\n"
     ]
    }
   ],
   "source": [
    "d6 = D6()\n",
    "print(d6 < 2)\n",
    "print(d6 > 2)\n",
    "print(d6 > 1)\n",
    "print(d6 != 4)\n",
    "print(d6 == 6)\n",
    "print(int(d6))"
   ]
  },
  {
   "cell_type": "code",
   "execution_count": 19,
   "metadata": {},
   "outputs": [
    {
     "name": "stdout",
     "output_type": "stream",
     "text": [
      "4\n",
      "6\n",
      "10\n",
      "18\n"
     ]
    }
   ],
   "source": [
    "d1 = D6()\n",
    "d2 = D6()\n",
    "print(int(d1))\n",
    "print(int(d2))\n",
    "print(d1 + d2)\n",
    "print(d1 + 14)"
   ]
  },
  {
   "cell_type": "markdown",
   "metadata": {},
   "source": [
    "If you want to get a lot of magic method goodies easily, check out attrs. It's a solid library and makes a lot of common usages much easier.\n",
    "\n",
    "https://attrs.readthedocs.io/\n",
    "\n",
    "Or, to stick with the standar library, check out the docs for functools.total_ordering. You need to define __eq__ and then one of the other operations and Python will figure out the rest.\n",
    "\n",
    "https://docs.python.org/3/library/functools.html#functools.total_ordering\n",
    "\n",
    "Before you ask\n",
    "\n",
    "Yes, I could have done something like:\n",
    "\n",
    "```python\n",
    "def __le__(self, other):\n",
    "     return int(self) <= other\n",
    "```\n",
    "Either format (long or short) is fine and produces the same result."
   ]
  },
  {
   "cell_type": "markdown",
   "metadata": {},
   "source": [
    "# Code Challenge\n",
    "Create a new Board subclass named TicTacToe. Have it automatically be a 3x3 board by automatically setting values in the ```__init__```.\n",
    "\n",
    "Now make all Board instances iterable so we can loop through their cells attribute. If you need help, refer back to the Emulating Builtins video.\n",
    "```python\n",
    "class Board:\n",
    "    def __init__(self, width, height):\n",
    "        self.width = width\n",
    "        self.height = height\n",
    "        self.cells = []\n",
    "        for y in range(self.height):\n",
    "            for x in range(self.width):\n",
    "                self.cells.append((x, y))\n",
    "                \n",
    "class TicTacToe(Board):\n",
    "    def __init__(self):\n",
    "        super().__init__(width=3, height=3)\n",
    "        \n",
    "    def __iter__(self):\n",
    "        for cell in self.cells:\n",
    "            yield cell\n",
    "```"
   ]
  },
  {
   "cell_type": "markdown",
   "metadata": {},
   "source": [
    "# Code Challenge\n",
    "I'd like to compare songs by their length (measured in whole seconds). Add the required methods for ==, <, >, <=, and >= comparisons. Probably a good idea to be able to convert Songs to ints, too, huh?\n",
    "```python\n",
    "class Song:\n",
    "    def __init__(self, artist, title, length):\n",
    "        self.artist = artist\n",
    "        self.title = title\n",
    "        self.length = length\n",
    "        \n",
    "    def __int__(self):\n",
    "        return self.length\n",
    "    \n",
    "    def __eq__(self, other):\n",
    "        return int(self) == other\n",
    "    \n",
    "    def __gt__(self, other):\n",
    "        return int(self) > other\n",
    "    \n",
    "    def __lt__(self, other):\n",
    "        return int(self) < other\n",
    "    \n",
    "    def __ge__(self, other):\n",
    "        return int(self) >= other\n",
    "    \n",
    "    def __le__(self, other):\n",
    "        return int(self) <= other\n",
    "```"
   ]
  },
  {
   "cell_type": "markdown",
   "metadata": {},
   "source": [
    "Are you confused by how we're using the die_class argument? Functions and classes are first-class citizens in Python which means we can pass them around and use them as values just like we would any other variable. That means we can point a variable or parameter at a class or function and then call that variable just like we would the original class. Here's another example:\n",
    "```python\n",
    "class Car:\n",
    "    pass\n",
    "\n",
    "\n",
    "class Van:\n",
    "    pass\n",
    "\n",
    "\n",
    "class Motorcycle:\n",
    "    pass\n",
    "\n",
    "\n",
    "def vehicle_factory(cls, count):\n",
    "    for _ in range(count):\n",
    "        yield cls()\n",
    "```        \n",
    "Now we could make any number of Car, Van, or Motorcycle instances that we want (and, notice, it's a generator function since we're using yield; if our vehicle manufacturing required a lot of memory, we could still be polite to other processes and not tie up all of the RAM with our factory). We'd do this with code similar to\n",
    "```python\n",
    "cars = vehicle_factory(Car, 50)\n",
    "vans = vehicle_factory(Van, 10)\n",
    "motorcycles = vehicle_factory(Motorcycle, 100)\n",
    "```\n",
    "Each time the for loop executes, it finds the class that was passed in and creates an instance of it. This ability of Python makes for really flexible code."
   ]
  },
  {
   "cell_type": "code",
   "execution_count": 23,
   "metadata": {
    "collapsed": true
   },
   "outputs": [],
   "source": [
    "# hands.py\n",
    "\n",
    "class Hand(list):\n",
    "    def __init__(self, size=0, die_class=None, *args, **kwargs):\n",
    "        if not die_class:\n",
    "            raise ValueError('You must provide a die class')\n",
    "        super().__init__()\n",
    "        \n",
    "        for _ in range(size):\n",
    "            self.append(die_class())\n",
    "        self.sort()\n",
    "        \n",
    "        def _by_value(self, value):\n",
    "            dice = []\n",
    "            for die in self:\n",
    "                if die == value:\n",
    "                    dice.append(die)\n",
    "            return dice\n",
    "        \n",
    "class YatzyHand(Hand):\n",
    "    def __init__(self, *args, **kwargs):\n",
    "        super().__init__(size=5, die_class=D6, *args, **kwargs)\n",
    "        \n",
    "    @property\n",
    "    def ones(self):\n",
    "        return self._by_value(1)\n",
    "    \n",
    "    @property\n",
    "    def twos(self):\n",
    "        return self._by_value(2)\n",
    "    \n",
    "    @property\n",
    "    def threes(self):\n",
    "        return self._by_value(3)\n",
    "    \n",
    "    @property\n",
    "    def fours(self):\n",
    "        return self._by_value(4)\n",
    "    \n",
    "    @property\n",
    "    def fives(self):\n",
    "        return self._by_value(5)\n",
    "    \n",
    "    @property\n",
    "    def sixes(self):\n",
    "        return self._by_value(6)\n",
    "    \n",
    "    @property\n",
    "    def _sets(self):\n",
    "        return {\n",
    "            1: len(self.ones),\n",
    "            2: len(self.twos),\n",
    "            3: len(self.threes),\n",
    "            4: len(self.fours),\n",
    "            5: len(self.fives),\n",
    "            6: len(self.sixes)\n",
    "        }"
   ]
  },
  {
   "cell_type": "code",
   "execution_count": 24,
   "metadata": {
    "collapsed": true
   },
   "outputs": [],
   "source": [
    "#scoresheets.py\n",
    "\n",
    "class YatzyScoresheet:\n",
    "    def score_ones(self):\n",
    "        return sum(hand.ones)\n",
    "    \n",
    "    def score_twos(self):\n",
    "        return sum(hand.twos)\n",
    "    \n",
    "    def score_threes(self):\n",
    "        return sum(hand.threes)\n",
    "    \n",
    "    def score_fours(self):\n",
    "        return sum(hand.fours)\n",
    "    \n",
    "    def score_fives(self):\n",
    "        return sum(hand.fives)\n",
    "    \n",
    "    def score_sixes(self):\n",
    "        return sum(hand.sixes)\n",
    "    \n",
    "    def _score_set(self, hand, set_size):\n",
    "        scores = [0]\n",
    "        for worth, count in hand._sets.items():\n",
    "            if count == set_size:\n",
    "                scores.append(worth*set_size)\n",
    "        return max(scores)\n",
    "    \n",
    "    def score_one_pair(self, hand):\n",
    "        return self._score_set(hand, 2)\n",
    "    "
   ]
  },
  {
   "cell_type": "code",
   "execution_count": 19,
   "metadata": {},
   "outputs": [
    {
     "data": {
      "text/plain": [
       "[2, 2, 2, 3, 6]"
      ]
     },
     "execution_count": 19,
     "metadata": {},
     "output_type": "execute_result"
    }
   ],
   "source": [
    "hand = Hand(size=5, die_class=D6)\n",
    "hand"
   ]
  },
  {
   "cell_type": "code",
   "execution_count": 20,
   "metadata": {},
   "outputs": [
    {
     "data": {
      "text/plain": [
       "2"
      ]
     },
     "execution_count": 20,
     "metadata": {},
     "output_type": "execute_result"
    }
   ],
   "source": [
    "hand[1].value"
   ]
  },
  {
   "cell_type": "code",
   "execution_count": 21,
   "metadata": {},
   "outputs": [
    {
     "data": {
      "text/plain": [
       "[1, 2, 2, 4, 5]"
      ]
     },
     "execution_count": 21,
     "metadata": {},
     "output_type": "execute_result"
    }
   ],
   "source": [
    "yh = YatzyHand()\n",
    "yh"
   ]
  },
  {
   "cell_type": "code",
   "execution_count": 25,
   "metadata": {},
   "outputs": [
    {
     "ename": "AttributeError",
     "evalue": "'list' object has no attribute 'sets'",
     "output_type": "error",
     "traceback": [
      "\u001b[0;31m---------------------------------------------------------------------------\u001b[0m",
      "\u001b[0;31mAttributeError\u001b[0m                            Traceback (most recent call last)",
      "\u001b[0;32m<ipython-input-25-14d75362a167>\u001b[0m in \u001b[0;36m<module>\u001b[0;34m()\u001b[0m\n\u001b[1;32m      4\u001b[0m \u001b[0mone\u001b[0m \u001b[0;34m=\u001b[0m \u001b[0mD6\u001b[0m\u001b[0;34m(\u001b[0m\u001b[0mvalue\u001b[0m\u001b[0;34m=\u001b[0m\u001b[0;36m1\u001b[0m\u001b[0;34m)\u001b[0m\u001b[0;34m\u001b[0m\u001b[0m\n\u001b[1;32m      5\u001b[0m \u001b[0mhand\u001b[0m \u001b[0;34m=\u001b[0m \u001b[0;34m[\u001b[0m\u001b[0mone\u001b[0m\u001b[0;34m,\u001b[0m \u001b[0mthree\u001b[0m\u001b[0;34m,\u001b[0m \u001b[0mthree\u001b[0m\u001b[0;34m,\u001b[0m \u001b[0mfour\u001b[0m\u001b[0;34m,\u001b[0m \u001b[0mfour\u001b[0m\u001b[0;34m]\u001b[0m\u001b[0;34m\u001b[0m\u001b[0m\n\u001b[0;32m----> 6\u001b[0;31m \u001b[0mYatzyScoresheet\u001b[0m\u001b[0;34m(\u001b[0m\u001b[0;34m)\u001b[0m\u001b[0;34m.\u001b[0m\u001b[0mscore_one_pair\u001b[0m\u001b[0;34m(\u001b[0m\u001b[0mhand\u001b[0m\u001b[0;34m)\u001b[0m\u001b[0;34m\u001b[0m\u001b[0m\n\u001b[0m",
      "\u001b[0;32m<ipython-input-24-8f4a87b3956e>\u001b[0m in \u001b[0;36mscore_one_pair\u001b[0;34m(self, hand)\u001b[0m\n\u001b[1;32m     28\u001b[0m \u001b[0;34m\u001b[0m\u001b[0m\n\u001b[1;32m     29\u001b[0m     \u001b[0;32mdef\u001b[0m \u001b[0mscore_one_pair\u001b[0m\u001b[0;34m(\u001b[0m\u001b[0mself\u001b[0m\u001b[0;34m,\u001b[0m \u001b[0mhand\u001b[0m\u001b[0;34m)\u001b[0m\u001b[0;34m:\u001b[0m\u001b[0;34m\u001b[0m\u001b[0m\n\u001b[0;32m---> 30\u001b[0;31m         \u001b[0;32mreturn\u001b[0m \u001b[0mself\u001b[0m\u001b[0;34m.\u001b[0m\u001b[0m_score_set\u001b[0m\u001b[0;34m(\u001b[0m\u001b[0mhand\u001b[0m\u001b[0;34m,\u001b[0m \u001b[0;36m2\u001b[0m\u001b[0;34m)\u001b[0m\u001b[0;34m\u001b[0m\u001b[0m\n\u001b[0m\u001b[1;32m     31\u001b[0m \u001b[0;34m\u001b[0m\u001b[0m\n",
      "\u001b[0;32m<ipython-input-24-8f4a87b3956e>\u001b[0m in \u001b[0;36m_score_set\u001b[0;34m(self, hand, set_size)\u001b[0m\n\u001b[1;32m     22\u001b[0m     \u001b[0;32mdef\u001b[0m \u001b[0m_score_set\u001b[0m\u001b[0;34m(\u001b[0m\u001b[0mself\u001b[0m\u001b[0;34m,\u001b[0m \u001b[0mhand\u001b[0m\u001b[0;34m,\u001b[0m \u001b[0mset_size\u001b[0m\u001b[0;34m)\u001b[0m\u001b[0;34m:\u001b[0m\u001b[0;34m\u001b[0m\u001b[0m\n\u001b[1;32m     23\u001b[0m         \u001b[0mscores\u001b[0m \u001b[0;34m=\u001b[0m \u001b[0;34m[\u001b[0m\u001b[0;36m0\u001b[0m\u001b[0;34m]\u001b[0m\u001b[0;34m\u001b[0m\u001b[0m\n\u001b[0;32m---> 24\u001b[0;31m         \u001b[0;32mfor\u001b[0m \u001b[0mworth\u001b[0m\u001b[0;34m,\u001b[0m \u001b[0mcount\u001b[0m \u001b[0;32min\u001b[0m \u001b[0mhand\u001b[0m\u001b[0;34m.\u001b[0m\u001b[0msets\u001b[0m\u001b[0;34m.\u001b[0m\u001b[0mitems\u001b[0m\u001b[0;34m(\u001b[0m\u001b[0;34m)\u001b[0m\u001b[0;34m:\u001b[0m\u001b[0;34m\u001b[0m\u001b[0m\n\u001b[0m\u001b[1;32m     25\u001b[0m             \u001b[0;32mif\u001b[0m \u001b[0mcount\u001b[0m \u001b[0;34m==\u001b[0m \u001b[0mset_size\u001b[0m\u001b[0;34m:\u001b[0m\u001b[0;34m\u001b[0m\u001b[0m\n\u001b[1;32m     26\u001b[0m                 \u001b[0mscores\u001b[0m\u001b[0;34m.\u001b[0m\u001b[0mappend\u001b[0m\u001b[0;34m(\u001b[0m\u001b[0mworth\u001b[0m\u001b[0;34m*\u001b[0m\u001b[0mset_size\u001b[0m\u001b[0;34m)\u001b[0m\u001b[0;34m\u001b[0m\u001b[0m\n",
      "\u001b[0;31mAttributeError\u001b[0m: 'list' object has no attribute 'sets'"
     ]
    }
   ],
   "source": [
    "hand = YatzyHand()\n",
    "three = D6(value=3)\n",
    "four = D6(value=4)\n",
    "one = D6(value=1)\n",
    "hand = [one, three, three, four, four]\n",
    "YatzyScoresheet().score_one_pair(hand)"
   ]
  },
  {
   "cell_type": "markdown",
   "metadata": {},
   "source": [
    "# Code Challenge\n",
    "Create a new class in dice.py named D20 that extends Die. It should automatically have 20 sides and shouldn't require any arguments to create.\n",
    "\n",
    "Now update Hand in hands.py. I'm going to use code similar to Hand.roll(2) and I want to get back an instance of Hand with two D20s rolled in it. I should then be able to call .total on the instance to get the total of the two dice.\n",
    "I'll leave the implementation of all of that up to you. I don't care how you do it, I only care that it works.\n",
    "```python\n",
    "#dice.py\n",
    "import random\n",
    "\n",
    "\n",
    "class Die:\n",
    "    def __init__(self, sides=2):\n",
    "        if sides < 2:\n",
    "            raise ValueError(\"Can't have fewer than two sides\")\n",
    "        self.sides = sides\n",
    "        self.value = random.randint(1, sides)\n",
    "        \n",
    "    def __int__(self):\n",
    "        return self.value\n",
    "      \n",
    "    def __add__(self, other):\n",
    "        return int(self) + other\n",
    "    \n",
    "    def __radd__(self, other):\n",
    "        return self + other\n",
    "    \n",
    "class D20(Die):\n",
    "    def __init__(self):\n",
    "        super().__init__(sides=20)\n",
    "        \n",
    "#hands.py\n",
    "from dice import D20\n",
    "\n",
    "class Hand(list):\n",
    "    @property\n",
    "    def total(self):\n",
    "        return sum(self)\n",
    "\n",
    "    @classmethod\n",
    "    def roll(cls, size=2):\n",
    "        for _ in range(size):\n",
    "            die = []\n",
    "            die.append(D20())\n",
    "        return cls(die)\n",
    "```"
   ]
  },
  {
   "cell_type": "markdown",
   "metadata": {
    "collapsed": true
   },
   "source": [
    "# Code Challenge\n",
    "I've set you up with all of the code you've seen in the course. I want you to add a score_chance method to the YatzyScoresheet. It should take a hand argument. Return the sum total of the dice in the hand. For example, a Hand of [1, 2, 2, 3, 4] would return a score of 12.\n",
    "```python\n",
    "class YatzyScoresheet:\n",
    "    def score_ones(self, hand):\n",
    "        return sum(hand.ones)\n",
    "    \n",
    "    def _score_set(self, hand, set_size):\n",
    "        scores = [0]\n",
    "        for worth, count in hand._sets.items():\n",
    "            if count == set_size:\n",
    "                scores.append(worth*set_size)\n",
    "        return max(scores)\n",
    "    \n",
    "    def score_one_pair(self, hand):\n",
    "        return self._score_set(hand, 2)\n",
    "    \n",
    "    def score_chance(self, hand):\n",
    "        return sum(hand)\n",
    "        \n",
    "    def score_yatzy(self, hand):\n",
    "        if all(item == hand[0] for item in hand) == True:\n",
    "            return 50\n",
    "        else:\n",
    "            return 0\n",
    "     \n",
    "```"
   ]
  },
  {
   "cell_type": "code",
   "execution_count": 26,
   "metadata": {
    "collapsed": true
   },
   "outputs": [],
   "source": [
    "class YatzyScoresheet:\n",
    "    def score_ones(self, hand):\n",
    "        return sum(hand.ones)\n",
    "    \n",
    "    def _score_set(self, hand, set_size):\n",
    "        scores = [0]\n",
    "        for worth, count in hand._sets.items():\n",
    "            if count == set_size:\n",
    "                scores.append(worth*set_size)\n",
    "        return max(scores)\n",
    "    \n",
    "    def score_one_pair(self, hand):\n",
    "        return self._score_set(hand, 2)\n",
    "    \n",
    "    def score_chance(self, hand):\n",
    "        return sum(hand)"
   ]
  },
  {
   "cell_type": "code",
   "execution_count": 29,
   "metadata": {},
   "outputs": [
    {
     "ename": "TypeError",
     "evalue": "score_chance() missing 1 required positional argument: 'hand'",
     "output_type": "error",
     "traceback": [
      "\u001b[0;31m---------------------------------------------------------------------------\u001b[0m",
      "\u001b[0;31mTypeError\u001b[0m                                 Traceback (most recent call last)",
      "\u001b[0;32m<ipython-input-29-b79a9c903644>\u001b[0m in \u001b[0;36m<module>\u001b[0;34m()\u001b[0m\n\u001b[1;32m      4\u001b[0m \u001b[0mone\u001b[0m \u001b[0;34m=\u001b[0m \u001b[0mD6\u001b[0m\u001b[0;34m(\u001b[0m\u001b[0mvalue\u001b[0m\u001b[0;34m=\u001b[0m\u001b[0;36m1\u001b[0m\u001b[0;34m)\u001b[0m\u001b[0;34m\u001b[0m\u001b[0m\n\u001b[1;32m      5\u001b[0m \u001b[0mhand\u001b[0m \u001b[0;34m=\u001b[0m \u001b[0;34m[\u001b[0m\u001b[0mone\u001b[0m\u001b[0;34m,\u001b[0m \u001b[0mthree\u001b[0m\u001b[0;34m,\u001b[0m \u001b[0mthree\u001b[0m\u001b[0;34m,\u001b[0m \u001b[0mfour\u001b[0m\u001b[0;34m,\u001b[0m \u001b[0mfour\u001b[0m\u001b[0;34m]\u001b[0m\u001b[0;34m\u001b[0m\u001b[0m\n\u001b[0;32m----> 6\u001b[0;31m \u001b[0mss\u001b[0m \u001b[0;34m=\u001b[0m \u001b[0mYatzyScoresheet\u001b[0m\u001b[0;34m.\u001b[0m\u001b[0mscore_chance\u001b[0m\u001b[0;34m(\u001b[0m\u001b[0;34m[\u001b[0m\u001b[0mone\u001b[0m\u001b[0;34m,\u001b[0m \u001b[0mthree\u001b[0m\u001b[0;34m,\u001b[0m \u001b[0mthree\u001b[0m\u001b[0;34m,\u001b[0m \u001b[0mfour\u001b[0m\u001b[0;34m,\u001b[0m \u001b[0mfour\u001b[0m\u001b[0;34m]\u001b[0m\u001b[0;34m)\u001b[0m\u001b[0;34m\u001b[0m\u001b[0m\n\u001b[0m",
      "\u001b[0;31mTypeError\u001b[0m: score_chance() missing 1 required positional argument: 'hand'"
     ]
    }
   ],
   "source": [
    "hand = YatzyHand()\n",
    "three = D6(value=3)\n",
    "four = D6(value=4)\n",
    "one = D6(value=1)\n",
    "hand = [one, three, three, four, four]\n",
    "ss = YatzyScoresheet.score_chance([one, three, three, four, four])"
   ]
  },
  {
   "cell_type": "code",
   "execution_count": null,
   "metadata": {
    "collapsed": true
   },
   "outputs": [],
   "source": []
  }
 ],
 "metadata": {
  "kernelspec": {
   "display_name": "Python 3",
   "language": "python",
   "name": "python3"
  },
  "language_info": {
   "codemirror_mode": {
    "name": "ipython",
    "version": 3
   },
   "file_extension": ".py",
   "mimetype": "text/x-python",
   "name": "python",
   "nbconvert_exporter": "python",
   "pygments_lexer": "ipython3",
   "version": "3.6.1"
  }
 },
 "nbformat": 4,
 "nbformat_minor": 2
}
